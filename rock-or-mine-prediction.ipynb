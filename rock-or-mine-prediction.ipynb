{
 "cells": [
  {
   "cell_type": "markdown",
   "id": "637dc78e",
   "metadata": {
    "id": "view-in-github",
    "papermill": {
     "duration": 0.008527,
     "end_time": "2023-01-07T05:39:00.380810",
     "exception": false,
     "start_time": "2023-01-07T05:39:00.372283",
     "status": "completed"
    },
    "tags": []
   },
   "source": [
    "<a href=\"https://colab.research.google.com/github/SANJEEVKUMARBG/Binary-Classification-Logistic-reg.-/blob/main/Rock_or_Mine_prediction.ipynb\" target=\"_parent\"><img src=\"https://colab.research.google.com/assets/colab-badge.svg\" alt=\"Open In Colab\"/></a>"
   ]
  },
  {
   "cell_type": "markdown",
   "id": "655c8c9f",
   "metadata": {
    "id": "3sgxhcLMebFW",
    "papermill": {
     "duration": 0.006384,
     "end_time": "2023-01-07T05:39:00.394883",
     "exception": false,
     "start_time": "2023-01-07T05:39:00.388499",
     "status": "completed"
    },
    "tags": []
   },
   "source": [
    "IMPORTING LIBRARIES"
   ]
  },
  {
   "cell_type": "code",
   "execution_count": 1,
   "id": "581ad613",
   "metadata": {
    "execution": {
     "iopub.execute_input": "2023-01-07T05:39:00.410836Z",
     "iopub.status.busy": "2023-01-07T05:39:00.410047Z",
     "iopub.status.idle": "2023-01-07T05:39:01.420842Z",
     "shell.execute_reply": "2023-01-07T05:39:01.419590Z"
    },
    "id": "I89aJEIsdkye",
    "papermill": {
     "duration": 1.021968,
     "end_time": "2023-01-07T05:39:01.423838",
     "exception": false,
     "start_time": "2023-01-07T05:39:00.401870",
     "status": "completed"
    },
    "tags": []
   },
   "outputs": [],
   "source": [
    "import pandas as pd\n",
    "import numpy as np\n",
    "from sklearn.model_selection import train_test_split\n",
    "from sklearn.linear_model import LogisticRegression\n",
    "from sklearn.metrics import accuracy_score, classification_report, f1_score"
   ]
  },
  {
   "cell_type": "code",
   "execution_count": 2,
   "id": "95645092",
   "metadata": {
    "execution": {
     "iopub.execute_input": "2023-01-07T05:39:01.441828Z",
     "iopub.status.busy": "2023-01-07T05:39:01.441411Z",
     "iopub.status.idle": "2023-01-07T05:39:01.465763Z",
     "shell.execute_reply": "2023-01-07T05:39:01.464583Z"
    },
    "id": "7SHsh2_Nexsa",
    "papermill": {
     "duration": 0.035585,
     "end_time": "2023-01-07T05:39:01.468316",
     "exception": false,
     "start_time": "2023-01-07T05:39:01.432731",
     "status": "completed"
    },
    "tags": []
   },
   "outputs": [],
   "source": [
    "df = pd.read_csv('/kaggle/input/sonar-dataset/Sonar Data.csv', header=None)"
   ]
  },
  {
   "cell_type": "code",
   "execution_count": 3,
   "id": "cbf30782",
   "metadata": {
    "execution": {
     "iopub.execute_input": "2023-01-07T05:39:01.483857Z",
     "iopub.status.busy": "2023-01-07T05:39:01.483200Z",
     "iopub.status.idle": "2023-01-07T05:39:01.522871Z",
     "shell.execute_reply": "2023-01-07T05:39:01.521611Z"
    },
    "id": "L6SYhFUBe3qJ",
    "outputId": "b2f6bac6-b0ac-4a95-9cd2-81850cc0f7d9",
    "papermill": {
     "duration": 0.050498,
     "end_time": "2023-01-07T05:39:01.525553",
     "exception": false,
     "start_time": "2023-01-07T05:39:01.475055",
     "status": "completed"
    },
    "tags": []
   },
   "outputs": [
    {
     "data": {
      "text/html": [
       "<div>\n",
       "<style scoped>\n",
       "    .dataframe tbody tr th:only-of-type {\n",
       "        vertical-align: middle;\n",
       "    }\n",
       "\n",
       "    .dataframe tbody tr th {\n",
       "        vertical-align: top;\n",
       "    }\n",
       "\n",
       "    .dataframe thead th {\n",
       "        text-align: right;\n",
       "    }\n",
       "</style>\n",
       "<table border=\"1\" class=\"dataframe\">\n",
       "  <thead>\n",
       "    <tr style=\"text-align: right;\">\n",
       "      <th></th>\n",
       "      <th>0</th>\n",
       "      <th>1</th>\n",
       "      <th>2</th>\n",
       "      <th>3</th>\n",
       "      <th>4</th>\n",
       "      <th>5</th>\n",
       "      <th>6</th>\n",
       "      <th>7</th>\n",
       "      <th>8</th>\n",
       "      <th>9</th>\n",
       "      <th>...</th>\n",
       "      <th>51</th>\n",
       "      <th>52</th>\n",
       "      <th>53</th>\n",
       "      <th>54</th>\n",
       "      <th>55</th>\n",
       "      <th>56</th>\n",
       "      <th>57</th>\n",
       "      <th>58</th>\n",
       "      <th>59</th>\n",
       "      <th>60</th>\n",
       "    </tr>\n",
       "  </thead>\n",
       "  <tbody>\n",
       "    <tr>\n",
       "      <th>0</th>\n",
       "      <td>0.0200</td>\n",
       "      <td>0.0371</td>\n",
       "      <td>0.0428</td>\n",
       "      <td>0.0207</td>\n",
       "      <td>0.0954</td>\n",
       "      <td>0.0986</td>\n",
       "      <td>0.1539</td>\n",
       "      <td>0.1601</td>\n",
       "      <td>0.3109</td>\n",
       "      <td>0.2111</td>\n",
       "      <td>...</td>\n",
       "      <td>0.0027</td>\n",
       "      <td>0.0065</td>\n",
       "      <td>0.0159</td>\n",
       "      <td>0.0072</td>\n",
       "      <td>0.0167</td>\n",
       "      <td>0.0180</td>\n",
       "      <td>0.0084</td>\n",
       "      <td>0.0090</td>\n",
       "      <td>0.0032</td>\n",
       "      <td>R</td>\n",
       "    </tr>\n",
       "    <tr>\n",
       "      <th>1</th>\n",
       "      <td>0.0453</td>\n",
       "      <td>0.0523</td>\n",
       "      <td>0.0843</td>\n",
       "      <td>0.0689</td>\n",
       "      <td>0.1183</td>\n",
       "      <td>0.2583</td>\n",
       "      <td>0.2156</td>\n",
       "      <td>0.3481</td>\n",
       "      <td>0.3337</td>\n",
       "      <td>0.2872</td>\n",
       "      <td>...</td>\n",
       "      <td>0.0084</td>\n",
       "      <td>0.0089</td>\n",
       "      <td>0.0048</td>\n",
       "      <td>0.0094</td>\n",
       "      <td>0.0191</td>\n",
       "      <td>0.0140</td>\n",
       "      <td>0.0049</td>\n",
       "      <td>0.0052</td>\n",
       "      <td>0.0044</td>\n",
       "      <td>R</td>\n",
       "    </tr>\n",
       "    <tr>\n",
       "      <th>2</th>\n",
       "      <td>0.0262</td>\n",
       "      <td>0.0582</td>\n",
       "      <td>0.1099</td>\n",
       "      <td>0.1083</td>\n",
       "      <td>0.0974</td>\n",
       "      <td>0.2280</td>\n",
       "      <td>0.2431</td>\n",
       "      <td>0.3771</td>\n",
       "      <td>0.5598</td>\n",
       "      <td>0.6194</td>\n",
       "      <td>...</td>\n",
       "      <td>0.0232</td>\n",
       "      <td>0.0166</td>\n",
       "      <td>0.0095</td>\n",
       "      <td>0.0180</td>\n",
       "      <td>0.0244</td>\n",
       "      <td>0.0316</td>\n",
       "      <td>0.0164</td>\n",
       "      <td>0.0095</td>\n",
       "      <td>0.0078</td>\n",
       "      <td>R</td>\n",
       "    </tr>\n",
       "    <tr>\n",
       "      <th>3</th>\n",
       "      <td>0.0100</td>\n",
       "      <td>0.0171</td>\n",
       "      <td>0.0623</td>\n",
       "      <td>0.0205</td>\n",
       "      <td>0.0205</td>\n",
       "      <td>0.0368</td>\n",
       "      <td>0.1098</td>\n",
       "      <td>0.1276</td>\n",
       "      <td>0.0598</td>\n",
       "      <td>0.1264</td>\n",
       "      <td>...</td>\n",
       "      <td>0.0121</td>\n",
       "      <td>0.0036</td>\n",
       "      <td>0.0150</td>\n",
       "      <td>0.0085</td>\n",
       "      <td>0.0073</td>\n",
       "      <td>0.0050</td>\n",
       "      <td>0.0044</td>\n",
       "      <td>0.0040</td>\n",
       "      <td>0.0117</td>\n",
       "      <td>R</td>\n",
       "    </tr>\n",
       "    <tr>\n",
       "      <th>4</th>\n",
       "      <td>0.0762</td>\n",
       "      <td>0.0666</td>\n",
       "      <td>0.0481</td>\n",
       "      <td>0.0394</td>\n",
       "      <td>0.0590</td>\n",
       "      <td>0.0649</td>\n",
       "      <td>0.1209</td>\n",
       "      <td>0.2467</td>\n",
       "      <td>0.3564</td>\n",
       "      <td>0.4459</td>\n",
       "      <td>...</td>\n",
       "      <td>0.0031</td>\n",
       "      <td>0.0054</td>\n",
       "      <td>0.0105</td>\n",
       "      <td>0.0110</td>\n",
       "      <td>0.0015</td>\n",
       "      <td>0.0072</td>\n",
       "      <td>0.0048</td>\n",
       "      <td>0.0107</td>\n",
       "      <td>0.0094</td>\n",
       "      <td>R</td>\n",
       "    </tr>\n",
       "  </tbody>\n",
       "</table>\n",
       "<p>5 rows × 61 columns</p>\n",
       "</div>"
      ],
      "text/plain": [
       "       0       1       2       3       4       5       6       7       8   \\\n",
       "0  0.0200  0.0371  0.0428  0.0207  0.0954  0.0986  0.1539  0.1601  0.3109   \n",
       "1  0.0453  0.0523  0.0843  0.0689  0.1183  0.2583  0.2156  0.3481  0.3337   \n",
       "2  0.0262  0.0582  0.1099  0.1083  0.0974  0.2280  0.2431  0.3771  0.5598   \n",
       "3  0.0100  0.0171  0.0623  0.0205  0.0205  0.0368  0.1098  0.1276  0.0598   \n",
       "4  0.0762  0.0666  0.0481  0.0394  0.0590  0.0649  0.1209  0.2467  0.3564   \n",
       "\n",
       "       9   ...      51      52      53      54      55      56      57  \\\n",
       "0  0.2111  ...  0.0027  0.0065  0.0159  0.0072  0.0167  0.0180  0.0084   \n",
       "1  0.2872  ...  0.0084  0.0089  0.0048  0.0094  0.0191  0.0140  0.0049   \n",
       "2  0.6194  ...  0.0232  0.0166  0.0095  0.0180  0.0244  0.0316  0.0164   \n",
       "3  0.1264  ...  0.0121  0.0036  0.0150  0.0085  0.0073  0.0050  0.0044   \n",
       "4  0.4459  ...  0.0031  0.0054  0.0105  0.0110  0.0015  0.0072  0.0048   \n",
       "\n",
       "       58      59  60  \n",
       "0  0.0090  0.0032   R  \n",
       "1  0.0052  0.0044   R  \n",
       "2  0.0095  0.0078   R  \n",
       "3  0.0040  0.0117   R  \n",
       "4  0.0107  0.0094   R  \n",
       "\n",
       "[5 rows x 61 columns]"
      ]
     },
     "execution_count": 3,
     "metadata": {},
     "output_type": "execute_result"
    }
   ],
   "source": [
    "df.head()"
   ]
  },
  {
   "cell_type": "code",
   "execution_count": 4,
   "id": "d88b31d2",
   "metadata": {
    "execution": {
     "iopub.execute_input": "2023-01-07T05:39:01.542523Z",
     "iopub.status.busy": "2023-01-07T05:39:01.542106Z",
     "iopub.status.idle": "2023-01-07T05:39:01.549019Z",
     "shell.execute_reply": "2023-01-07T05:39:01.547821Z"
    },
    "id": "F4A-JVFhe4xh",
    "outputId": "0f27fc3d-e782-4524-f8cc-99f1d6f790e9",
    "papermill": {
     "duration": 0.017958,
     "end_time": "2023-01-07T05:39:01.551468",
     "exception": false,
     "start_time": "2023-01-07T05:39:01.533510",
     "status": "completed"
    },
    "tags": []
   },
   "outputs": [
    {
     "data": {
      "text/plain": [
       "(208, 61)"
      ]
     },
     "execution_count": 4,
     "metadata": {},
     "output_type": "execute_result"
    }
   ],
   "source": [
    "df.shape"
   ]
  },
  {
   "cell_type": "markdown",
   "id": "d5b1df4f",
   "metadata": {
    "id": "FGcYSxMpe-cX",
    "papermill": {
     "duration": 0.007036,
     "end_time": "2023-01-07T05:39:01.565622",
     "exception": false,
     "start_time": "2023-01-07T05:39:01.558586",
     "status": "completed"
    },
    "tags": []
   },
   "source": [
    "Using SVM might give us the good result because dimentions are more and chance for curse of dimetionality is high.\n",
    "Followed by boosting algorithems ."
   ]
  },
  {
   "cell_type": "code",
   "execution_count": 5,
   "id": "2a268bff",
   "metadata": {
    "execution": {
     "iopub.execute_input": "2023-01-07T05:39:01.583925Z",
     "iopub.status.busy": "2023-01-07T05:39:01.583533Z",
     "iopub.status.idle": "2023-01-07T05:39:01.733128Z",
     "shell.execute_reply": "2023-01-07T05:39:01.732260Z"
    },
    "id": "zJsb4guJe6WX",
    "outputId": "1f58a1a2-7d21-4d0e-ac8d-1a1ae1578fec",
    "papermill": {
     "duration": 0.160557,
     "end_time": "2023-01-07T05:39:01.735205",
     "exception": false,
     "start_time": "2023-01-07T05:39:01.574648",
     "status": "completed"
    },
    "tags": []
   },
   "outputs": [
    {
     "data": {
      "text/html": [
       "<div>\n",
       "<style scoped>\n",
       "    .dataframe tbody tr th:only-of-type {\n",
       "        vertical-align: middle;\n",
       "    }\n",
       "\n",
       "    .dataframe tbody tr th {\n",
       "        vertical-align: top;\n",
       "    }\n",
       "\n",
       "    .dataframe thead th {\n",
       "        text-align: right;\n",
       "    }\n",
       "</style>\n",
       "<table border=\"1\" class=\"dataframe\">\n",
       "  <thead>\n",
       "    <tr style=\"text-align: right;\">\n",
       "      <th></th>\n",
       "      <th>0</th>\n",
       "      <th>1</th>\n",
       "      <th>2</th>\n",
       "      <th>3</th>\n",
       "      <th>4</th>\n",
       "      <th>5</th>\n",
       "      <th>6</th>\n",
       "      <th>7</th>\n",
       "      <th>8</th>\n",
       "      <th>9</th>\n",
       "      <th>...</th>\n",
       "      <th>50</th>\n",
       "      <th>51</th>\n",
       "      <th>52</th>\n",
       "      <th>53</th>\n",
       "      <th>54</th>\n",
       "      <th>55</th>\n",
       "      <th>56</th>\n",
       "      <th>57</th>\n",
       "      <th>58</th>\n",
       "      <th>59</th>\n",
       "    </tr>\n",
       "  </thead>\n",
       "  <tbody>\n",
       "    <tr>\n",
       "      <th>count</th>\n",
       "      <td>208.000000</td>\n",
       "      <td>208.000000</td>\n",
       "      <td>208.000000</td>\n",
       "      <td>208.000000</td>\n",
       "      <td>208.000000</td>\n",
       "      <td>208.000000</td>\n",
       "      <td>208.000000</td>\n",
       "      <td>208.000000</td>\n",
       "      <td>208.000000</td>\n",
       "      <td>208.000000</td>\n",
       "      <td>...</td>\n",
       "      <td>208.000000</td>\n",
       "      <td>208.000000</td>\n",
       "      <td>208.000000</td>\n",
       "      <td>208.000000</td>\n",
       "      <td>208.000000</td>\n",
       "      <td>208.000000</td>\n",
       "      <td>208.000000</td>\n",
       "      <td>208.000000</td>\n",
       "      <td>208.000000</td>\n",
       "      <td>208.000000</td>\n",
       "    </tr>\n",
       "    <tr>\n",
       "      <th>mean</th>\n",
       "      <td>0.029164</td>\n",
       "      <td>0.038437</td>\n",
       "      <td>0.043832</td>\n",
       "      <td>0.053892</td>\n",
       "      <td>0.075202</td>\n",
       "      <td>0.104570</td>\n",
       "      <td>0.121747</td>\n",
       "      <td>0.134799</td>\n",
       "      <td>0.178003</td>\n",
       "      <td>0.208259</td>\n",
       "      <td>...</td>\n",
       "      <td>0.016069</td>\n",
       "      <td>0.013420</td>\n",
       "      <td>0.010709</td>\n",
       "      <td>0.010941</td>\n",
       "      <td>0.009290</td>\n",
       "      <td>0.008222</td>\n",
       "      <td>0.007820</td>\n",
       "      <td>0.007949</td>\n",
       "      <td>0.007941</td>\n",
       "      <td>0.006507</td>\n",
       "    </tr>\n",
       "    <tr>\n",
       "      <th>std</th>\n",
       "      <td>0.022991</td>\n",
       "      <td>0.032960</td>\n",
       "      <td>0.038428</td>\n",
       "      <td>0.046528</td>\n",
       "      <td>0.055552</td>\n",
       "      <td>0.059105</td>\n",
       "      <td>0.061788</td>\n",
       "      <td>0.085152</td>\n",
       "      <td>0.118387</td>\n",
       "      <td>0.134416</td>\n",
       "      <td>...</td>\n",
       "      <td>0.012008</td>\n",
       "      <td>0.009634</td>\n",
       "      <td>0.007060</td>\n",
       "      <td>0.007301</td>\n",
       "      <td>0.007088</td>\n",
       "      <td>0.005736</td>\n",
       "      <td>0.005785</td>\n",
       "      <td>0.006470</td>\n",
       "      <td>0.006181</td>\n",
       "      <td>0.005031</td>\n",
       "    </tr>\n",
       "    <tr>\n",
       "      <th>min</th>\n",
       "      <td>0.001500</td>\n",
       "      <td>0.000600</td>\n",
       "      <td>0.001500</td>\n",
       "      <td>0.005800</td>\n",
       "      <td>0.006700</td>\n",
       "      <td>0.010200</td>\n",
       "      <td>0.003300</td>\n",
       "      <td>0.005500</td>\n",
       "      <td>0.007500</td>\n",
       "      <td>0.011300</td>\n",
       "      <td>...</td>\n",
       "      <td>0.000000</td>\n",
       "      <td>0.000800</td>\n",
       "      <td>0.000500</td>\n",
       "      <td>0.001000</td>\n",
       "      <td>0.000600</td>\n",
       "      <td>0.000400</td>\n",
       "      <td>0.000300</td>\n",
       "      <td>0.000300</td>\n",
       "      <td>0.000100</td>\n",
       "      <td>0.000600</td>\n",
       "    </tr>\n",
       "    <tr>\n",
       "      <th>25%</th>\n",
       "      <td>0.013350</td>\n",
       "      <td>0.016450</td>\n",
       "      <td>0.018950</td>\n",
       "      <td>0.024375</td>\n",
       "      <td>0.038050</td>\n",
       "      <td>0.067025</td>\n",
       "      <td>0.080900</td>\n",
       "      <td>0.080425</td>\n",
       "      <td>0.097025</td>\n",
       "      <td>0.111275</td>\n",
       "      <td>...</td>\n",
       "      <td>0.008425</td>\n",
       "      <td>0.007275</td>\n",
       "      <td>0.005075</td>\n",
       "      <td>0.005375</td>\n",
       "      <td>0.004150</td>\n",
       "      <td>0.004400</td>\n",
       "      <td>0.003700</td>\n",
       "      <td>0.003600</td>\n",
       "      <td>0.003675</td>\n",
       "      <td>0.003100</td>\n",
       "    </tr>\n",
       "    <tr>\n",
       "      <th>50%</th>\n",
       "      <td>0.022800</td>\n",
       "      <td>0.030800</td>\n",
       "      <td>0.034300</td>\n",
       "      <td>0.044050</td>\n",
       "      <td>0.062500</td>\n",
       "      <td>0.092150</td>\n",
       "      <td>0.106950</td>\n",
       "      <td>0.112100</td>\n",
       "      <td>0.152250</td>\n",
       "      <td>0.182400</td>\n",
       "      <td>...</td>\n",
       "      <td>0.013900</td>\n",
       "      <td>0.011400</td>\n",
       "      <td>0.009550</td>\n",
       "      <td>0.009300</td>\n",
       "      <td>0.007500</td>\n",
       "      <td>0.006850</td>\n",
       "      <td>0.005950</td>\n",
       "      <td>0.005800</td>\n",
       "      <td>0.006400</td>\n",
       "      <td>0.005300</td>\n",
       "    </tr>\n",
       "    <tr>\n",
       "      <th>75%</th>\n",
       "      <td>0.035550</td>\n",
       "      <td>0.047950</td>\n",
       "      <td>0.057950</td>\n",
       "      <td>0.064500</td>\n",
       "      <td>0.100275</td>\n",
       "      <td>0.134125</td>\n",
       "      <td>0.154000</td>\n",
       "      <td>0.169600</td>\n",
       "      <td>0.233425</td>\n",
       "      <td>0.268700</td>\n",
       "      <td>...</td>\n",
       "      <td>0.020825</td>\n",
       "      <td>0.016725</td>\n",
       "      <td>0.014900</td>\n",
       "      <td>0.014500</td>\n",
       "      <td>0.012100</td>\n",
       "      <td>0.010575</td>\n",
       "      <td>0.010425</td>\n",
       "      <td>0.010350</td>\n",
       "      <td>0.010325</td>\n",
       "      <td>0.008525</td>\n",
       "    </tr>\n",
       "    <tr>\n",
       "      <th>max</th>\n",
       "      <td>0.137100</td>\n",
       "      <td>0.233900</td>\n",
       "      <td>0.305900</td>\n",
       "      <td>0.426400</td>\n",
       "      <td>0.401000</td>\n",
       "      <td>0.382300</td>\n",
       "      <td>0.372900</td>\n",
       "      <td>0.459000</td>\n",
       "      <td>0.682800</td>\n",
       "      <td>0.710600</td>\n",
       "      <td>...</td>\n",
       "      <td>0.100400</td>\n",
       "      <td>0.070900</td>\n",
       "      <td>0.039000</td>\n",
       "      <td>0.035200</td>\n",
       "      <td>0.044700</td>\n",
       "      <td>0.039400</td>\n",
       "      <td>0.035500</td>\n",
       "      <td>0.044000</td>\n",
       "      <td>0.036400</td>\n",
       "      <td>0.043900</td>\n",
       "    </tr>\n",
       "  </tbody>\n",
       "</table>\n",
       "<p>8 rows × 60 columns</p>\n",
       "</div>"
      ],
      "text/plain": [
       "               0           1           2           3           4           5   \\\n",
       "count  208.000000  208.000000  208.000000  208.000000  208.000000  208.000000   \n",
       "mean     0.029164    0.038437    0.043832    0.053892    0.075202    0.104570   \n",
       "std      0.022991    0.032960    0.038428    0.046528    0.055552    0.059105   \n",
       "min      0.001500    0.000600    0.001500    0.005800    0.006700    0.010200   \n",
       "25%      0.013350    0.016450    0.018950    0.024375    0.038050    0.067025   \n",
       "50%      0.022800    0.030800    0.034300    0.044050    0.062500    0.092150   \n",
       "75%      0.035550    0.047950    0.057950    0.064500    0.100275    0.134125   \n",
       "max      0.137100    0.233900    0.305900    0.426400    0.401000    0.382300   \n",
       "\n",
       "               6           7           8           9   ...          50  \\\n",
       "count  208.000000  208.000000  208.000000  208.000000  ...  208.000000   \n",
       "mean     0.121747    0.134799    0.178003    0.208259  ...    0.016069   \n",
       "std      0.061788    0.085152    0.118387    0.134416  ...    0.012008   \n",
       "min      0.003300    0.005500    0.007500    0.011300  ...    0.000000   \n",
       "25%      0.080900    0.080425    0.097025    0.111275  ...    0.008425   \n",
       "50%      0.106950    0.112100    0.152250    0.182400  ...    0.013900   \n",
       "75%      0.154000    0.169600    0.233425    0.268700  ...    0.020825   \n",
       "max      0.372900    0.459000    0.682800    0.710600  ...    0.100400   \n",
       "\n",
       "               51          52          53          54          55          56  \\\n",
       "count  208.000000  208.000000  208.000000  208.000000  208.000000  208.000000   \n",
       "mean     0.013420    0.010709    0.010941    0.009290    0.008222    0.007820   \n",
       "std      0.009634    0.007060    0.007301    0.007088    0.005736    0.005785   \n",
       "min      0.000800    0.000500    0.001000    0.000600    0.000400    0.000300   \n",
       "25%      0.007275    0.005075    0.005375    0.004150    0.004400    0.003700   \n",
       "50%      0.011400    0.009550    0.009300    0.007500    0.006850    0.005950   \n",
       "75%      0.016725    0.014900    0.014500    0.012100    0.010575    0.010425   \n",
       "max      0.070900    0.039000    0.035200    0.044700    0.039400    0.035500   \n",
       "\n",
       "               57          58          59  \n",
       "count  208.000000  208.000000  208.000000  \n",
       "mean     0.007949    0.007941    0.006507  \n",
       "std      0.006470    0.006181    0.005031  \n",
       "min      0.000300    0.000100    0.000600  \n",
       "25%      0.003600    0.003675    0.003100  \n",
       "50%      0.005800    0.006400    0.005300  \n",
       "75%      0.010350    0.010325    0.008525  \n",
       "max      0.044000    0.036400    0.043900  \n",
       "\n",
       "[8 rows x 60 columns]"
      ]
     },
     "execution_count": 5,
     "metadata": {},
     "output_type": "execute_result"
    }
   ],
   "source": [
    "df.describe()"
   ]
  },
  {
   "cell_type": "code",
   "execution_count": 6,
   "id": "e898455f",
   "metadata": {
    "execution": {
     "iopub.execute_input": "2023-01-07T05:39:01.752849Z",
     "iopub.status.busy": "2023-01-07T05:39:01.751810Z",
     "iopub.status.idle": "2023-01-07T05:39:01.762202Z",
     "shell.execute_reply": "2023-01-07T05:39:01.761002Z"
    },
    "id": "xT_PSwgQfnOs",
    "outputId": "2cdbb990-a000-4773-d0b6-7c844c2b74e4",
    "papermill": {
     "duration": 0.021481,
     "end_time": "2023-01-07T05:39:01.764458",
     "exception": false,
     "start_time": "2023-01-07T05:39:01.742977",
     "status": "completed"
    },
    "tags": []
   },
   "outputs": [
    {
     "data": {
      "text/plain": [
       "M    53.365385\n",
       "R    46.634615\n",
       "Name: 60, dtype: float64"
      ]
     },
     "execution_count": 6,
     "metadata": {},
     "output_type": "execute_result"
    }
   ],
   "source": [
    "df[60].value_counts()/len(df)*100"
   ]
  },
  {
   "cell_type": "markdown",
   "id": "7ee08d31",
   "metadata": {
    "id": "EHGTO5fYgAhg",
    "papermill": {
     "duration": 0.007384,
     "end_time": "2023-01-07T05:39:01.779362",
     "exception": false,
     "start_time": "2023-01-07T05:39:01.771978",
     "status": "completed"
    },
    "tags": []
   },
   "source": [
    "Data has almost equal number of instances. No problem of data imbalance"
   ]
  },
  {
   "cell_type": "code",
   "execution_count": 7,
   "id": "bddbd667",
   "metadata": {
    "execution": {
     "iopub.execute_input": "2023-01-07T05:39:01.796846Z",
     "iopub.status.busy": "2023-01-07T05:39:01.795705Z",
     "iopub.status.idle": "2023-01-07T05:39:01.824445Z",
     "shell.execute_reply": "2023-01-07T05:39:01.823456Z"
    },
    "id": "VTxc4M-jf62P",
    "outputId": "effc1571-a7cb-43f0-e92d-c850f0cb6b79",
    "papermill": {
     "duration": 0.040141,
     "end_time": "2023-01-07T05:39:01.826941",
     "exception": false,
     "start_time": "2023-01-07T05:39:01.786800",
     "status": "completed"
    },
    "tags": []
   },
   "outputs": [
    {
     "data": {
      "text/html": [
       "<div>\n",
       "<style scoped>\n",
       "    .dataframe tbody tr th:only-of-type {\n",
       "        vertical-align: middle;\n",
       "    }\n",
       "\n",
       "    .dataframe tbody tr th {\n",
       "        vertical-align: top;\n",
       "    }\n",
       "\n",
       "    .dataframe thead th {\n",
       "        text-align: right;\n",
       "    }\n",
       "</style>\n",
       "<table border=\"1\" class=\"dataframe\">\n",
       "  <thead>\n",
       "    <tr style=\"text-align: right;\">\n",
       "      <th></th>\n",
       "      <th>0</th>\n",
       "      <th>1</th>\n",
       "      <th>2</th>\n",
       "      <th>3</th>\n",
       "      <th>4</th>\n",
       "      <th>5</th>\n",
       "      <th>6</th>\n",
       "      <th>7</th>\n",
       "      <th>8</th>\n",
       "      <th>9</th>\n",
       "      <th>...</th>\n",
       "      <th>50</th>\n",
       "      <th>51</th>\n",
       "      <th>52</th>\n",
       "      <th>53</th>\n",
       "      <th>54</th>\n",
       "      <th>55</th>\n",
       "      <th>56</th>\n",
       "      <th>57</th>\n",
       "      <th>58</th>\n",
       "      <th>59</th>\n",
       "    </tr>\n",
       "    <tr>\n",
       "      <th>60</th>\n",
       "      <th></th>\n",
       "      <th></th>\n",
       "      <th></th>\n",
       "      <th></th>\n",
       "      <th></th>\n",
       "      <th></th>\n",
       "      <th></th>\n",
       "      <th></th>\n",
       "      <th></th>\n",
       "      <th></th>\n",
       "      <th></th>\n",
       "      <th></th>\n",
       "      <th></th>\n",
       "      <th></th>\n",
       "      <th></th>\n",
       "      <th></th>\n",
       "      <th></th>\n",
       "      <th></th>\n",
       "      <th></th>\n",
       "      <th></th>\n",
       "      <th></th>\n",
       "    </tr>\n",
       "  </thead>\n",
       "  <tbody>\n",
       "    <tr>\n",
       "      <th>M</th>\n",
       "      <td>0.034989</td>\n",
       "      <td>0.045544</td>\n",
       "      <td>0.050720</td>\n",
       "      <td>0.064768</td>\n",
       "      <td>0.086715</td>\n",
       "      <td>0.111864</td>\n",
       "      <td>0.128359</td>\n",
       "      <td>0.149832</td>\n",
       "      <td>0.213492</td>\n",
       "      <td>0.251022</td>\n",
       "      <td>...</td>\n",
       "      <td>0.019352</td>\n",
       "      <td>0.016014</td>\n",
       "      <td>0.011643</td>\n",
       "      <td>0.012185</td>\n",
       "      <td>0.009923</td>\n",
       "      <td>0.008914</td>\n",
       "      <td>0.007825</td>\n",
       "      <td>0.009060</td>\n",
       "      <td>0.008695</td>\n",
       "      <td>0.006930</td>\n",
       "    </tr>\n",
       "    <tr>\n",
       "      <th>R</th>\n",
       "      <td>0.022498</td>\n",
       "      <td>0.030303</td>\n",
       "      <td>0.035951</td>\n",
       "      <td>0.041447</td>\n",
       "      <td>0.062028</td>\n",
       "      <td>0.096224</td>\n",
       "      <td>0.114180</td>\n",
       "      <td>0.117596</td>\n",
       "      <td>0.137392</td>\n",
       "      <td>0.159325</td>\n",
       "      <td>...</td>\n",
       "      <td>0.012311</td>\n",
       "      <td>0.010453</td>\n",
       "      <td>0.009640</td>\n",
       "      <td>0.009518</td>\n",
       "      <td>0.008567</td>\n",
       "      <td>0.007430</td>\n",
       "      <td>0.007814</td>\n",
       "      <td>0.006677</td>\n",
       "      <td>0.007078</td>\n",
       "      <td>0.006024</td>\n",
       "    </tr>\n",
       "  </tbody>\n",
       "</table>\n",
       "<p>2 rows × 60 columns</p>\n",
       "</div>"
      ],
      "text/plain": [
       "          0         1         2         3         4         5         6   \\\n",
       "60                                                                         \n",
       "M   0.034989  0.045544  0.050720  0.064768  0.086715  0.111864  0.128359   \n",
       "R   0.022498  0.030303  0.035951  0.041447  0.062028  0.096224  0.114180   \n",
       "\n",
       "          7         8         9   ...        50        51        52        53  \\\n",
       "60                                ...                                           \n",
       "M   0.149832  0.213492  0.251022  ...  0.019352  0.016014  0.011643  0.012185   \n",
       "R   0.117596  0.137392  0.159325  ...  0.012311  0.010453  0.009640  0.009518   \n",
       "\n",
       "          54        55        56        57        58        59  \n",
       "60                                                              \n",
       "M   0.009923  0.008914  0.007825  0.009060  0.008695  0.006930  \n",
       "R   0.008567  0.007430  0.007814  0.006677  0.007078  0.006024  \n",
       "\n",
       "[2 rows x 60 columns]"
      ]
     },
     "execution_count": 7,
     "metadata": {},
     "output_type": "execute_result"
    }
   ],
   "source": [
    "df.groupby(60).mean()"
   ]
  },
  {
   "cell_type": "code",
   "execution_count": 8,
   "id": "5dd9d65b",
   "metadata": {
    "execution": {
     "iopub.execute_input": "2023-01-07T05:39:01.845082Z",
     "iopub.status.busy": "2023-01-07T05:39:01.843955Z",
     "iopub.status.idle": "2023-01-07T05:39:01.853334Z",
     "shell.execute_reply": "2023-01-07T05:39:01.852420Z"
    },
    "id": "2VpP9CkNgOIh",
    "outputId": "583e1970-4787-49e3-89f8-1aee0b00dda5",
    "papermill": {
     "duration": 0.020946,
     "end_time": "2023-01-07T05:39:01.855816",
     "exception": false,
     "start_time": "2023-01-07T05:39:01.834870",
     "status": "completed"
    },
    "tags": []
   },
   "outputs": [
    {
     "data": {
      "text/plain": [
       "0     0\n",
       "1     0\n",
       "2     0\n",
       "3     0\n",
       "4     0\n",
       "     ..\n",
       "56    0\n",
       "57    0\n",
       "58    0\n",
       "59    0\n",
       "60    0\n",
       "Length: 61, dtype: int64"
      ]
     },
     "execution_count": 8,
     "metadata": {},
     "output_type": "execute_result"
    }
   ],
   "source": [
    "#checking for missing values\n",
    "df.isnull().sum()\n",
    "#no null values"
   ]
  },
  {
   "cell_type": "markdown",
   "id": "a2fddba4",
   "metadata": {
    "id": "644KLbmPhCRy",
    "papermill": {
     "duration": 0.007568,
     "end_time": "2023-01-07T05:39:01.871413",
     "exception": false,
     "start_time": "2023-01-07T05:39:01.863845",
     "status": "completed"
    },
    "tags": []
   },
   "source": [
    "Train test split"
   ]
  },
  {
   "cell_type": "code",
   "execution_count": 9,
   "id": "d608b1b0",
   "metadata": {
    "execution": {
     "iopub.execute_input": "2023-01-07T05:39:01.889314Z",
     "iopub.status.busy": "2023-01-07T05:39:01.888913Z",
     "iopub.status.idle": "2023-01-07T05:39:01.894117Z",
     "shell.execute_reply": "2023-01-07T05:39:01.893197Z"
    },
    "id": "T1VtYpW3gcig",
    "papermill": {
     "duration": 0.017013,
     "end_time": "2023-01-07T05:39:01.896394",
     "exception": false,
     "start_time": "2023-01-07T05:39:01.879381",
     "status": "completed"
    },
    "tags": []
   },
   "outputs": [],
   "source": [
    "X = df.drop(60, axis=1)\n",
    "y = df[60]"
   ]
  },
  {
   "cell_type": "code",
   "execution_count": 10,
   "id": "2d61d84e",
   "metadata": {
    "execution": {
     "iopub.execute_input": "2023-01-07T05:39:01.914946Z",
     "iopub.status.busy": "2023-01-07T05:39:01.913912Z",
     "iopub.status.idle": "2023-01-07T05:39:01.923018Z",
     "shell.execute_reply": "2023-01-07T05:39:01.922260Z"
    },
    "id": "PSXIoTeGhLv1",
    "papermill": {
     "duration": 0.020733,
     "end_time": "2023-01-07T05:39:01.925223",
     "exception": false,
     "start_time": "2023-01-07T05:39:01.904490",
     "status": "completed"
    },
    "tags": []
   },
   "outputs": [],
   "source": [
    "Xtrain, Xtest, ytrain, ytest = train_test_split(X,y,test_size = 0.25, stratify=y, random_state=12)"
   ]
  },
  {
   "cell_type": "code",
   "execution_count": 11,
   "id": "b04c9261",
   "metadata": {
    "execution": {
     "iopub.execute_input": "2023-01-07T05:39:01.943224Z",
     "iopub.status.busy": "2023-01-07T05:39:01.942525Z",
     "iopub.status.idle": "2023-01-07T05:39:01.948651Z",
     "shell.execute_reply": "2023-01-07T05:39:01.947480Z"
    },
    "id": "GJFfJjgJhUqT",
    "outputId": "8badcaa0-b855-490f-afad-a53081e97d14",
    "papermill": {
     "duration": 0.018168,
     "end_time": "2023-01-07T05:39:01.951329",
     "exception": false,
     "start_time": "2023-01-07T05:39:01.933161",
     "status": "completed"
    },
    "tags": []
   },
   "outputs": [
    {
     "name": "stdout",
     "output_type": "stream",
     "text": [
      "(156, 60) (52, 60) (208, 60)\n"
     ]
    }
   ],
   "source": [
    "print(Xtrain.shape, Xtest.shape, X.shape)"
   ]
  },
  {
   "cell_type": "markdown",
   "id": "1cd8675c",
   "metadata": {
    "id": "eVKZxA09h67D",
    "papermill": {
     "duration": 0.007635,
     "end_time": "2023-01-07T05:39:01.967072",
     "exception": false,
     "start_time": "2023-01-07T05:39:01.959437",
     "status": "completed"
    },
    "tags": []
   },
   "source": [
    "Model Building"
   ]
  },
  {
   "cell_type": "code",
   "execution_count": 12,
   "id": "b4a29739",
   "metadata": {
    "execution": {
     "iopub.execute_input": "2023-01-07T05:39:01.985173Z",
     "iopub.status.busy": "2023-01-07T05:39:01.984511Z",
     "iopub.status.idle": "2023-01-07T05:39:02.015427Z",
     "shell.execute_reply": "2023-01-07T05:39:02.014155Z"
    },
    "id": "ACi3yVgNh29d",
    "outputId": "d59474e9-442a-45b0-df31-f001743c03fb",
    "papermill": {
     "duration": 0.044443,
     "end_time": "2023-01-07T05:39:02.019454",
     "exception": false,
     "start_time": "2023-01-07T05:39:01.975011",
     "status": "completed"
    },
    "tags": []
   },
   "outputs": [
    {
     "name": "stdout",
     "output_type": "stream",
     "text": [
      "0.7692307692307693\n"
     ]
    }
   ],
   "source": [
    "#Logistic Regression\n",
    "\n",
    "LR = LogisticRegression()\n",
    "LR.fit(Xtrain, ytrain)\n",
    "ypred = LR.predict(Xtest)\n",
    "print(accuracy_score(ytest,ypred))"
   ]
  },
  {
   "cell_type": "code",
   "execution_count": 13,
   "id": "c1624bd7",
   "metadata": {
    "execution": {
     "iopub.execute_input": "2023-01-07T05:39:02.063428Z",
     "iopub.status.busy": "2023-01-07T05:39:02.062683Z",
     "iopub.status.idle": "2023-01-07T05:39:02.081277Z",
     "shell.execute_reply": "2023-01-07T05:39:02.079936Z"
    },
    "id": "gaWdWU0ZiM6r",
    "outputId": "eed0b1a3-fdd2-46c9-9908-76d6a2f02304",
    "papermill": {
     "duration": 0.062482,
     "end_time": "2023-01-07T05:39:02.102438",
     "exception": false,
     "start_time": "2023-01-07T05:39:02.039956",
     "status": "completed"
    },
    "tags": []
   },
   "outputs": [
    {
     "name": "stdout",
     "output_type": "stream",
     "text": [
      "              precision    recall  f1-score   support\n",
      "\n",
      "           M       0.79      0.79      0.79        28\n",
      "           R       0.75      0.75      0.75        24\n",
      "\n",
      "    accuracy                           0.77        52\n",
      "   macro avg       0.77      0.77      0.77        52\n",
      "weighted avg       0.77      0.77      0.77        52\n",
      "\n"
     ]
    }
   ],
   "source": [
    "print(classification_report(ytest,ypred))"
   ]
  },
  {
   "cell_type": "code",
   "execution_count": 14,
   "id": "e63659b0",
   "metadata": {
    "execution": {
     "iopub.execute_input": "2023-01-07T05:39:02.140571Z",
     "iopub.status.busy": "2023-01-07T05:39:02.140175Z",
     "iopub.status.idle": "2023-01-07T05:39:02.157888Z",
     "shell.execute_reply": "2023-01-07T05:39:02.155903Z"
    },
    "id": "yvjRLmWsieAJ",
    "outputId": "a25e5fcd-b51b-4e6b-f8bd-8e50480095c8",
    "papermill": {
     "duration": 0.03155,
     "end_time": "2023-01-07T05:39:02.161900",
     "exception": false,
     "start_time": "2023-01-07T05:39:02.130350",
     "status": "completed"
    },
    "tags": []
   },
   "outputs": [
    {
     "name": "stdout",
     "output_type": "stream",
     "text": [
      "0.7884615384615384\n"
     ]
    }
   ],
   "source": [
    "# SVM\n",
    "\n",
    "from sklearn.svm import SVC\n",
    "model = SVC()\n",
    "model.fit(Xtrain,ytrain)\n",
    "ypred_svm = model.predict(Xtest)\n",
    "print(accuracy_score(ytest,ypred_svm))"
   ]
  },
  {
   "cell_type": "code",
   "execution_count": 15,
   "id": "e42d68db",
   "metadata": {
    "execution": {
     "iopub.execute_input": "2023-01-07T05:39:02.183896Z",
     "iopub.status.busy": "2023-01-07T05:39:02.183450Z",
     "iopub.status.idle": "2023-01-07T05:39:02.195115Z",
     "shell.execute_reply": "2023-01-07T05:39:02.193790Z"
    },
    "id": "YygFy9f6lrea",
    "outputId": "51290399-86a0-44d7-ca86-a3bc960d8fc7",
    "papermill": {
     "duration": 0.024047,
     "end_time": "2023-01-07T05:39:02.197422",
     "exception": false,
     "start_time": "2023-01-07T05:39:02.173375",
     "status": "completed"
    },
    "tags": []
   },
   "outputs": [
    {
     "name": "stdout",
     "output_type": "stream",
     "text": [
      "              precision    recall  f1-score   support\n",
      "\n",
      "           M       0.74      0.93      0.83        28\n",
      "           R       0.88      0.62      0.73        24\n",
      "\n",
      "    accuracy                           0.79        52\n",
      "   macro avg       0.81      0.78      0.78        52\n",
      "weighted avg       0.81      0.79      0.78        52\n",
      "\n"
     ]
    }
   ],
   "source": [
    "print(classification_report(ytest,ypred_svm))"
   ]
  },
  {
   "cell_type": "code",
   "execution_count": 16,
   "id": "48e7c627",
   "metadata": {
    "execution": {
     "iopub.execute_input": "2023-01-07T05:39:02.217185Z",
     "iopub.status.busy": "2023-01-07T05:39:02.216413Z",
     "iopub.status.idle": "2023-01-07T05:39:02.220717Z",
     "shell.execute_reply": "2023-01-07T05:39:02.219734Z"
    },
    "id": "uiQrSkuQlvZw",
    "papermill": {
     "duration": 0.016672,
     "end_time": "2023-01-07T05:39:02.223033",
     "exception": false,
     "start_time": "2023-01-07T05:39:02.206361",
     "status": "completed"
    },
    "tags": []
   },
   "outputs": [],
   "source": [
    "# Lets try with Decision tree and a bagging model"
   ]
  },
  {
   "cell_type": "code",
   "execution_count": 17,
   "id": "85ce8878",
   "metadata": {
    "execution": {
     "iopub.execute_input": "2023-01-07T05:39:02.241584Z",
     "iopub.status.busy": "2023-01-07T05:39:02.241142Z",
     "iopub.status.idle": "2023-01-07T05:39:02.334645Z",
     "shell.execute_reply": "2023-01-07T05:39:02.332870Z"
    },
    "id": "o4eu29g6l8bU",
    "outputId": "53007887-a494-44cd-8fbe-92ad5aee0bb1",
    "papermill": {
     "duration": 0.105745,
     "end_time": "2023-01-07T05:39:02.337197",
     "exception": false,
     "start_time": "2023-01-07T05:39:02.231452",
     "status": "completed"
    },
    "tags": []
   },
   "outputs": [
    {
     "name": "stdout",
     "output_type": "stream",
     "text": [
      "accuracy score 0.7692307692307693 \n",
      "\n",
      "Classification report \n",
      "               precision    recall  f1-score   support\n",
      "\n",
      "           M       0.77      0.82      0.79        28\n",
      "           R       0.77      0.71      0.74        24\n",
      "\n",
      "    accuracy                           0.77        52\n",
      "   macro avg       0.77      0.76      0.77        52\n",
      "weighted avg       0.77      0.77      0.77        52\n",
      "\n"
     ]
    }
   ],
   "source": [
    "from sklearn.tree import DecisionTreeClassifier\n",
    "t_model = DecisionTreeClassifier(criterion='entropy')\n",
    "t_model.fit(Xtrain,ytrain)\n",
    "ypred_dt = t_model.predict(Xtest)\n",
    "print('accuracy score',accuracy_score(ytest,ypred_dt), '\\n')\n",
    "print('Classification report','\\n',classification_report(ytest,ypred_dt))"
   ]
  },
  {
   "cell_type": "code",
   "execution_count": 18,
   "id": "87d2d308",
   "metadata": {
    "execution": {
     "iopub.execute_input": "2023-01-07T05:39:02.356228Z",
     "iopub.status.busy": "2023-01-07T05:39:02.355775Z",
     "iopub.status.idle": "2023-01-07T05:39:02.623864Z",
     "shell.execute_reply": "2023-01-07T05:39:02.621299Z"
    },
    "id": "FC-_uoJHm1gK",
    "outputId": "c7fffcf4-1486-4bac-a323-10d28c64004d",
    "papermill": {
     "duration": 0.281774,
     "end_time": "2023-01-07T05:39:02.627338",
     "exception": false,
     "start_time": "2023-01-07T05:39:02.345564",
     "status": "completed"
    },
    "tags": []
   },
   "outputs": [
    {
     "name": "stdout",
     "output_type": "stream",
     "text": [
      "accuracy score 0.8269230769230769 \n",
      "\n",
      "Classification report \n",
      "               precision    recall  f1-score   support\n",
      "\n",
      "           M       0.79      0.93      0.85        28\n",
      "           R       0.89      0.71      0.79        24\n",
      "\n",
      "    accuracy                           0.83        52\n",
      "   macro avg       0.84      0.82      0.82        52\n",
      "weighted avg       0.84      0.83      0.82        52\n",
      "\n"
     ]
    }
   ],
   "source": [
    "# Random Forest\n",
    "from sklearn.ensemble import RandomForestClassifier\n",
    "e_model = RandomForestClassifier()\n",
    "e_model.fit(Xtrain,ytrain)\n",
    "ypred_rf = e_model.predict(Xtest)\n",
    "print('accuracy score',accuracy_score(ytest,ypred_rf), '\\n')\n",
    "print('Classification report','\\n',classification_report(ytest,ypred_rf))"
   ]
  },
  {
   "cell_type": "code",
   "execution_count": 19,
   "id": "a94948bb",
   "metadata": {
    "execution": {
     "iopub.execute_input": "2023-01-07T05:39:02.647837Z",
     "iopub.status.busy": "2023-01-07T05:39:02.645802Z",
     "iopub.status.idle": "2023-01-07T05:39:15.523465Z",
     "shell.execute_reply": "2023-01-07T05:39:15.521710Z"
    },
    "papermill": {
     "duration": 12.890442,
     "end_time": "2023-01-07T05:39:15.526438",
     "exception": false,
     "start_time": "2023-01-07T05:39:02.635996",
     "status": "completed"
    },
    "tags": []
   },
   "outputs": [
    {
     "name": "stdout",
     "output_type": "stream",
     "text": [
      "Requirement already satisfied: xgboost in /opt/conda/lib/python3.7/site-packages (1.6.2)\r\n",
      "Requirement already satisfied: scipy in /opt/conda/lib/python3.7/site-packages (from xgboost) (1.7.3)\r\n",
      "Requirement already satisfied: numpy in /opt/conda/lib/python3.7/site-packages (from xgboost) (1.21.6)\r\n",
      "\u001b[33mWARNING: Running pip as the 'root' user can result in broken permissions and conflicting behaviour with the system package manager. It is recommended to use a virtual environment instead: https://pip.pypa.io/warnings/venv\u001b[0m\u001b[33m\r\n",
      "\u001b[0mNote: you may need to restart the kernel to use updated packages.\n"
     ]
    }
   ],
   "source": [
    "pip install xgboost"
   ]
  },
  {
   "cell_type": "markdown",
   "id": "8323744d",
   "metadata": {
    "execution": {
     "iopub.execute_input": "2023-01-07T05:35:38.880303Z",
     "iopub.status.busy": "2023-01-07T05:35:38.879653Z",
     "iopub.status.idle": "2023-01-07T05:35:38.922686Z",
     "shell.execute_reply": "2023-01-07T05:35:38.920964Z",
     "shell.execute_reply.started": "2023-01-07T05:35:38.880242Z"
    },
    "id": "Qmiuhzp8nZNW",
    "outputId": "45a8dbaa-3188-4325-e096-3c9526837994",
    "papermill": {
     "duration": 0.008963,
     "end_time": "2023-01-07T05:39:15.544767",
     "exception": false,
     "start_time": "2023-01-07T05:39:15.535804",
     "status": "completed"
    },
    "tags": []
   },
   "source": [
    "# Boosting\n",
    "import xgboost as xgb\n",
    "boost = xgb.XGBClassifier()\n",
    "boost.fit(Xtrain,ytrain)\n",
    "ypred_xg = boost.predict(Xtest)\n",
    "print('accuracy score',accuracy_score(ytest,ypred_xg), '\\n')\n",
    "print('Classification report','\\n',classification_report(ytest,ypred_xg))"
   ]
  },
  {
   "cell_type": "markdown",
   "id": "035f4474",
   "metadata": {
    "id": "OBN_28kWop_i",
    "papermill": {
     "duration": 0.011208,
     "end_time": "2023-01-07T05:39:15.565068",
     "exception": false,
     "start_time": "2023-01-07T05:39:15.553860",
     "status": "completed"
    },
    "tags": []
   },
   "source": [
    "Boosting algos gave the highest accuracy."
   ]
  },
  {
   "cell_type": "markdown",
   "id": "29eb033d",
   "metadata": {
    "papermill": {
     "duration": 0.008175,
     "end_time": "2023-01-07T05:39:15.582049",
     "exception": false,
     "start_time": "2023-01-07T05:39:15.573874",
     "status": "completed"
    },
    "tags": []
   },
   "source": [
    "accuracy score 0.8653846153846154 \n",
    "\n",
    "Classification report \n",
    "               precision    recall  f1-score   support\n",
    "\n",
    "           M       0.84      0.93      0.88        28\n",
    "           R       0.90      0.79      0.84        24\n",
    "\n",
    "    accuracy                           0.87        52\n",
    "   macro avg       0.87      0.86      0.86        52\n",
    "weighted avg       0.87      0.87      0.86        52"
   ]
  }
 ],
 "metadata": {
  "kernelspec": {
   "display_name": "Python 3",
   "language": "python",
   "name": "python3"
  },
  "language_info": {
   "codemirror_mode": {
    "name": "ipython",
    "version": 3
   },
   "file_extension": ".py",
   "mimetype": "text/x-python",
   "name": "python",
   "nbconvert_exporter": "python",
   "pygments_lexer": "ipython3",
   "version": "3.7.12"
  },
  "papermill": {
   "default_parameters": {},
   "duration": 24.530869,
   "end_time": "2023-01-07T05:39:16.413643",
   "environment_variables": {},
   "exception": null,
   "input_path": "__notebook__.ipynb",
   "output_path": "__notebook__.ipynb",
   "parameters": {},
   "start_time": "2023-01-07T05:38:51.882774",
   "version": "2.3.4"
  }
 },
 "nbformat": 4,
 "nbformat_minor": 5
}
